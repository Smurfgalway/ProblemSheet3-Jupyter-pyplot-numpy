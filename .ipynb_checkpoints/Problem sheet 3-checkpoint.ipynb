{
 "cells": [
  {
   "cell_type": "markdown",
   "metadata": {},
   "source": [
    "# Emerging Tech Problem Sheet 3: Jupyter, pyplot and numpy"
   ]
  },
  {
   "cell_type": "markdown",
   "metadata": {},
   "source": [
    "## Question 1: get and load the data\n",
    "### The objective of this question was to load in the data from IRIS Data set using numpy as demonstrated below"
   ]
  },
  {
   "cell_type": "code",
   "execution_count": 35,
   "metadata": {},
   "outputs": [
    {
     "name": "stdout",
     "output_type": "stream",
     "text": [
      "[[ nan  nan  nan  nan  nan]\n",
      " [ 5.1  3.5  1.4  0.2  nan]\n",
      " [ 4.9  3.   1.4  0.2  nan]\n",
      " [ 4.7  3.2  1.3  0.2  nan]\n",
      " [ 4.6  3.1  1.5  0.2  nan]\n",
      " [ 5.   3.6  1.4  0.2  nan]\n",
      " [ 5.4  3.9  1.7  0.4  nan]\n",
      " [ 4.6  3.4  1.4  0.3  nan]\n",
      " [ 5.   3.4  1.5  0.2  nan]\n",
      " [ 4.4  2.9  1.4  0.2  nan]\n",
      " [ 4.9  3.1  1.5  0.1  nan]\n",
      " [ 5.4  3.7  1.5  0.2  nan]\n",
      " [ 4.8  3.4  1.6  0.2  nan]\n",
      " [ 4.8  3.   1.4  0.1  nan]\n",
      " [ 4.3  3.   1.1  0.1  nan]\n",
      " [ 5.8  4.   1.2  0.2  nan]\n",
      " [ 5.7  4.4  1.5  0.4  nan]\n",
      " [ 5.4  3.9  1.3  0.4  nan]\n",
      " [ 5.1  3.5  1.4  0.3  nan]\n",
      " [ 5.7  3.8  1.7  0.3  nan]\n",
      " [ 5.1  3.8  1.5  0.3  nan]\n",
      " [ 5.4  3.4  1.7  0.2  nan]\n",
      " [ 5.1  3.7  1.5  0.4  nan]\n",
      " [ 4.6  3.6  1.   0.2  nan]\n",
      " [ 5.1  3.3  1.7  0.5  nan]\n",
      " [ 4.8  3.4  1.9  0.2  nan]\n",
      " [ 5.   3.   1.6  0.2  nan]\n",
      " [ 5.   3.4  1.6  0.4  nan]\n",
      " [ 5.2  3.5  1.5  0.2  nan]\n",
      " [ 5.2  3.4  1.4  0.2  nan]\n",
      " [ 4.7  3.2  1.6  0.2  nan]\n",
      " [ 4.8  3.1  1.6  0.2  nan]\n",
      " [ 5.4  3.4  1.5  0.4  nan]\n",
      " [ 7.   3.2  4.7  1.4  nan]\n",
      " [ 6.4  3.2  4.5  1.5  nan]\n",
      " [ 6.9  3.1  4.9  1.5  nan]\n",
      " [ 5.5  2.3  4.   1.3  nan]\n",
      " [ 6.5  2.8  4.6  1.5  nan]\n",
      " [ 5.7  2.8  4.5  1.3  nan]\n",
      " [ 6.3  3.3  4.7  1.6  nan]\n",
      " [ 4.9  2.4  3.3  1.   nan]\n",
      " [ 6.6  2.9  4.6  1.3  nan]\n",
      " [ 5.2  2.7  3.9  1.4  nan]\n",
      " [ 5.   2.   3.5  1.   nan]\n",
      " [ 5.9  3.   4.2  1.5  nan]\n",
      " [ 6.   2.2  4.   1.   nan]\n",
      " [ 6.1  2.9  4.7  1.4  nan]\n",
      " [ 5.6  2.9  3.6  1.3  nan]\n",
      " [ 6.7  3.1  4.4  1.4  nan]\n",
      " [ 5.6  3.   4.5  1.5  nan]\n",
      " [ 5.8  2.7  4.1  1.   nan]\n",
      " [ 6.2  2.2  4.5  1.5  nan]\n",
      " [ 5.6  2.5  3.9  1.1  nan]\n",
      " [ 5.9  3.2  4.8  1.8  nan]\n",
      " [ 6.1  2.8  4.   1.3  nan]\n",
      " [ 6.3  2.5  4.9  1.5  nan]\n",
      " [ 6.1  2.8  4.7  1.2  nan]\n",
      " [ 6.4  2.9  4.3  1.3  nan]\n",
      " [ 6.6  3.   4.4  1.4  nan]\n",
      " [ 6.8  2.8  4.8  1.4  nan]\n",
      " [ 6.7  3.   5.   1.7  nan]\n",
      " [ 6.   2.9  4.5  1.5  nan]\n",
      " [ 5.7  2.6  3.5  1.   nan]\n",
      " [ 5.5  2.4  3.8  1.1  nan]\n",
      " [ 5.5  2.4  3.7  1.   nan]\n",
      " [ 5.8  2.7  3.9  1.2  nan]\n",
      " [ 6.   2.7  5.1  1.6  nan]\n",
      " [ 6.3  3.3  6.   2.5  nan]\n",
      " [ 5.8  2.7  5.1  1.9  nan]\n",
      " [ 7.1  3.   5.9  2.1  nan]\n",
      " [ 6.3  2.9  5.6  1.8  nan]\n",
      " [ 6.5  3.   5.8  2.2  nan]\n",
      " [ 7.6  3.   6.6  2.1  nan]\n",
      " [ 4.9  2.5  4.5  1.7  nan]\n",
      " [ 7.3  2.9  6.3  1.8  nan]\n",
      " [ 6.7  2.5  5.8  1.8  nan]\n",
      " [ 7.2  3.6  6.1  2.5  nan]\n",
      " [ 6.5  3.2  5.1  2.   nan]\n",
      " [ 6.4  2.7  5.3  1.9  nan]\n",
      " [ 6.8  3.   5.5  2.1  nan]\n",
      " [ 5.7  2.5  5.   2.   nan]\n",
      " [ 5.8  2.8  5.1  2.4  nan]\n",
      " [ 6.4  3.2  5.3  2.3  nan]\n",
      " [ 6.5  3.   5.5  1.8  nan]\n",
      " [ 7.7  3.8  6.7  2.2  nan]\n",
      " [ 7.7  2.6  6.9  2.3  nan]\n",
      " [ 6.   2.2  5.   1.5  nan]\n",
      " [ 6.9  3.2  5.7  2.3  nan]\n",
      " [ 5.6  2.8  4.9  2.   nan]\n",
      " [ 7.7  2.8  6.7  2.   nan]\n",
      " [ 6.3  2.7  4.9  1.8  nan]\n",
      " [ 6.7  3.3  5.7  2.1  nan]\n",
      " [ 7.2  3.2  6.   1.8  nan]\n",
      " [ 6.2  2.8  4.8  1.8  nan]\n",
      " [ 6.1  3.   4.9  1.8  nan]\n",
      " [ 6.4  2.8  5.6  2.1  nan]\n",
      " [ 7.2  3.   5.8  1.6  nan]\n",
      " [ 7.4  2.8  6.1  1.9  nan]\n",
      " [ 7.9  3.8  6.4  2.   nan]\n",
      " [ 6.4  2.8  5.6  2.2  nan]\n",
      " [ 6.3  2.8  5.1  1.5  nan]]\n"
     ]
    }
   ],
   "source": [
    "import numpy as py\n",
    "irisData = py.genfromtxt('IRIS.csv', delimiter=',')\n",
    "\n",
    "print(irisData)"
   ]
  },
  {
   "cell_type": "code",
   "execution_count": 38,
   "metadata": {
    "scrolled": true
   },
   "outputs": [
    {
     "data": {
      "image/png": "[encoded data removed]",
      "text/plain": [
       "<matplotlib.figure.Figure at 0x1fc632597f0>"
      ]
     },
     "metadata": {},
     "output_type": "display_data"
    }
   ],
   "source": [
    "import pandas as read\n",
    "\n",
    "irisData = read.read_csv(\"IRIS.csv\")\n",
    "x = irisData.SepalLength\n",
    "y = irisData.SepalWidth\n",
    "\n",
    "import matplotlib.pyplot as plt\n",
    "plt.title('The Sepal of the Iris')\n",
    "plt.scatter(x,y)\n",
    "plt.xlabel('Length')\n",
    "plt.ylabel('Width')\n",
    "plt.show()"
   ]
  },
  {
   "cell_type": "code",
   "execution_count": null,
   "metadata": {
    "scrolled": true
   },
   "outputs": [],
   "source": []
  }
 ],
 "metadata": {
  "kernelspec": {
   "display_name": "Python 3",
   "language": "python",
   "name": "python3"
  },
  "language_info": {
   "codemirror_mode": {
    "name": "ipython",
    "version": 3
   },
   "file_extension": ".py",
   "mimetype": "text/x-python",
   "name": "python",
   "nbconvert_exporter": "python",
   "pygments_lexer": "ipython3",
   "version": "3.6.2"
  }
 },
 "nbformat": 4,
 "nbformat_minor": 2
}
